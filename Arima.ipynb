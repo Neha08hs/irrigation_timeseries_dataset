{
  "nbformat": 4,
  "nbformat_minor": 0,
  "metadata": {
    "colab": {
      "name": "Copy of Untitled6.ipynb",
      "provenance": [],
      "authorship_tag": "ABX9TyNEK9/9wNVegLS11E1xcu2P",
      "include_colab_link": true
    },
    "kernelspec": {
      "name": "python3",
      "display_name": "Python 3"
    },
    "language_info": {
      "name": "python"
    },
    "accelerator": "GPU"
  },
  "cells": [
    {
      "cell_type": "markdown",
      "metadata": {
        "id": "view-in-github",
        "colab_type": "text"
      },
      "source": [
        "<a href=\"https://colab.research.google.com/github/Neha08hs/irrigation_timeseries_dataset/blob/main/Arima.ipynb\" target=\"_parent\"><img src=\"https://colab.research.google.com/assets/colab-badge.svg\" alt=\"Open In Colab\"/></a>"
      ]
    },
    {
      "cell_type": "code",
      "source": [
        "pip install pmdarima"
      ],
      "metadata": {
        "colab": {
          "base_uri": "https://localhost:8080/"
        },
        "id": "6Yoiu2eZe5S5",
        "outputId": "af52bd3d-977b-42c8-a696-51083b4d9436"
      },
      "execution_count": null,
      "outputs": [
        {
          "output_type": "stream",
          "name": "stdout",
          "text": [
            "Looking in indexes: https://pypi.org/simple, https://us-python.pkg.dev/colab-wheels/public/simple/\n",
            "Collecting pmdarima\n",
            "  Downloading pmdarima-1.8.5-cp37-cp37m-manylinux_2_17_x86_64.manylinux2014_x86_64.manylinux_2_24_x86_64.whl (1.4 MB)\n",
            "\u001b[K     |████████████████████████████████| 1.4 MB 7.6 MB/s \n",
            "\u001b[?25hCollecting statsmodels!=0.12.0,>=0.11\n",
            "  Downloading statsmodels-0.13.2-cp37-cp37m-manylinux_2_17_x86_64.manylinux2014_x86_64.whl (9.8 MB)\n",
            "\u001b[K     |████████████████████████████████| 9.8 MB 45.1 MB/s \n",
            "\u001b[?25hRequirement already satisfied: urllib3 in /usr/local/lib/python3.7/dist-packages (from pmdarima) (1.24.3)\n",
            "Requirement already satisfied: setuptools!=50.0.0,>=38.6.0 in /usr/local/lib/python3.7/dist-packages (from pmdarima) (57.4.0)\n",
            "Requirement already satisfied: pandas>=0.19 in /usr/local/lib/python3.7/dist-packages (from pmdarima) (1.3.5)\n",
            "Requirement already satisfied: numpy>=1.19.3 in /usr/local/lib/python3.7/dist-packages (from pmdarima) (1.21.6)\n",
            "Requirement already satisfied: scikit-learn>=0.22 in /usr/local/lib/python3.7/dist-packages (from pmdarima) (1.0.2)\n",
            "Requirement already satisfied: Cython!=0.29.18,>=0.29 in /usr/local/lib/python3.7/dist-packages (from pmdarima) (0.29.30)\n",
            "Requirement already satisfied: scipy>=1.3.2 in /usr/local/lib/python3.7/dist-packages (from pmdarima) (1.4.1)\n",
            "Requirement already satisfied: joblib>=0.11 in /usr/local/lib/python3.7/dist-packages (from pmdarima) (1.1.0)\n",
            "Requirement already satisfied: pytz>=2017.3 in /usr/local/lib/python3.7/dist-packages (from pandas>=0.19->pmdarima) (2022.1)\n",
            "Requirement already satisfied: python-dateutil>=2.7.3 in /usr/local/lib/python3.7/dist-packages (from pandas>=0.19->pmdarima) (2.8.2)\n",
            "Requirement already satisfied: six>=1.5 in /usr/local/lib/python3.7/dist-packages (from python-dateutil>=2.7.3->pandas>=0.19->pmdarima) (1.15.0)\n",
            "Requirement already satisfied: threadpoolctl>=2.0.0 in /usr/local/lib/python3.7/dist-packages (from scikit-learn>=0.22->pmdarima) (3.1.0)\n",
            "Requirement already satisfied: packaging>=21.3 in /usr/local/lib/python3.7/dist-packages (from statsmodels!=0.12.0,>=0.11->pmdarima) (21.3)\n",
            "Requirement already satisfied: patsy>=0.5.2 in /usr/local/lib/python3.7/dist-packages (from statsmodels!=0.12.0,>=0.11->pmdarima) (0.5.2)\n",
            "Requirement already satisfied: pyparsing!=3.0.5,>=2.0.2 in /usr/local/lib/python3.7/dist-packages (from packaging>=21.3->statsmodels!=0.12.0,>=0.11->pmdarima) (3.0.9)\n",
            "Installing collected packages: statsmodels, pmdarima\n",
            "  Attempting uninstall: statsmodels\n",
            "    Found existing installation: statsmodels 0.10.2\n",
            "    Uninstalling statsmodels-0.10.2:\n",
            "      Successfully uninstalled statsmodels-0.10.2\n",
            "Successfully installed pmdarima-1.8.5 statsmodels-0.13.2\n"
          ]
        }
      ]
    },
    {
      "cell_type": "code",
      "source": [
        "import pandas as pd\n",
        "import numpy as np\n",
        "import warnings\n",
        "from sklearn import metrics as mt\n",
        "from pmdarima.arima import auto_arima"
      ],
      "metadata": {
        "id": "wA8Ysw1ffFuQ"
      },
      "execution_count": null,
      "outputs": []
    },
    {
      "cell_type": "code",
      "source": [
        "y_train = pd.read_csv('/content/y_train_complete.csv', index_col=['date'], parse_dates=['date'])\n",
        "y_test = pd.read_csv('/content/y_test.csv', index_col=['date'], parse_dates=['date'])"
      ],
      "metadata": {
        "id": "nrfG_9m1gL_I"
      },
      "execution_count": null,
      "outputs": []
    },
    {
      "cell_type": "code",
      "source": [
        "y_test.index.name = 'Date'\n",
        "y_test.rename(columns={\"reference_evapotranspiration\": \"REFERENCE_EVAPOTRANSPIRATION\"});"
      ],
      "metadata": {
        "id": "ZDdwzR0SghSB"
      },
      "execution_count": null,
      "outputs": []
    },
    {
      "cell_type": "code",
      "source": [
        "reference_evapotranspiration = pd.concat([y_train, y_test])"
      ],
      "metadata": {
        "id": "uJ_SRT3Ggkxs"
      },
      "execution_count": null,
      "outputs": []
    },
    {
      "cell_type": "code",
      "source": [
        "sarima_model = auto_arima(reference_evapotranspiration.reference_evapotranspiration,\n",
        "                          start_p=1, start_q=1, max_p=10, max_q=10, m=12,\n",
        "                          start_P=0, seasonal=True, d=1, D=1, trace=True,\n",
        "                          error_action='ignore',  # don't want to know if an order does not work\n",
        "                          suppress_warnings=True,  # don't want convergence warnings\n",
        "                          stepwise=True)  # set to stepwise\n",
        "\n",
        "sarima_model.summary()"
      ],
      "metadata": {
        "colab": {
          "base_uri": "https://localhost:8080/",
          "height": 1000
        },
        "id": "mKvx1TgdgucM",
        "outputId": "14a00cbd-5224-4679-9089-1d09941a9896"
      },
      "execution_count": null,
      "outputs": [
        {
          "output_type": "stream",
          "name": "stdout",
          "text": [
            "Performing stepwise search to minimize aic\n",
            " ARIMA(1,1,1)(0,1,1)[12]             : AIC=inf, Time=3.18 sec\n",
            " ARIMA(0,1,0)(0,1,0)[12]             : AIC=-1809.343, Time=0.21 sec\n",
            " ARIMA(1,1,0)(1,1,0)[12]             : AIC=-1872.898, Time=1.01 sec\n",
            " ARIMA(0,1,1)(0,1,1)[12]             : AIC=inf, Time=2.59 sec\n",
            " ARIMA(1,1,0)(0,1,0)[12]             : AIC=-1823.336, Time=0.21 sec\n",
            " ARIMA(1,1,0)(2,1,0)[12]             : AIC=-1901.077, Time=1.42 sec\n",
            " ARIMA(1,1,0)(2,1,1)[12]             : AIC=inf, Time=6.24 sec\n",
            " ARIMA(1,1,0)(1,1,1)[12]             : AIC=inf, Time=2.62 sec\n",
            " ARIMA(0,1,0)(2,1,0)[12]             : AIC=-1888.021, Time=0.42 sec\n",
            " ARIMA(2,1,0)(2,1,0)[12]             : AIC=-1911.429, Time=3.08 sec\n",
            " ARIMA(2,1,0)(1,1,0)[12]             : AIC=-1884.508, Time=1.32 sec\n",
            " ARIMA(2,1,0)(2,1,1)[12]             : AIC=inf, Time=5.87 sec\n",
            " ARIMA(2,1,0)(1,1,1)[12]             : AIC=inf, Time=3.29 sec\n",
            " ARIMA(3,1,0)(2,1,0)[12]             : AIC=-1916.004, Time=1.94 sec\n",
            " ARIMA(3,1,0)(1,1,0)[12]             : AIC=-1888.078, Time=1.72 sec\n",
            " ARIMA(3,1,0)(2,1,1)[12]             : AIC=inf, Time=6.67 sec\n",
            " ARIMA(3,1,0)(1,1,1)[12]             : AIC=inf, Time=3.11 sec\n",
            " ARIMA(4,1,0)(2,1,0)[12]             : AIC=-1918.195, Time=2.59 sec\n",
            " ARIMA(4,1,0)(1,1,0)[12]             : AIC=-1891.425, Time=2.67 sec\n",
            " ARIMA(4,1,0)(2,1,1)[12]             : AIC=inf, Time=8.61 sec\n",
            " ARIMA(4,1,0)(1,1,1)[12]             : AIC=inf, Time=5.01 sec\n",
            " ARIMA(5,1,0)(2,1,0)[12]             : AIC=-1919.518, Time=2.03 sec\n",
            " ARIMA(5,1,0)(1,1,0)[12]             : AIC=-1891.448, Time=2.39 sec\n",
            " ARIMA(5,1,0)(2,1,1)[12]             : AIC=-1976.458, Time=11.02 sec\n",
            " ARIMA(5,1,0)(1,1,1)[12]             : AIC=inf, Time=5.78 sec\n",
            " ARIMA(5,1,0)(2,1,2)[12]             : AIC=inf, Time=13.81 sec\n",
            " ARIMA(5,1,0)(1,1,2)[12]             : AIC=inf, Time=11.20 sec\n",
            " ARIMA(6,1,0)(2,1,1)[12]             : AIC=-1966.140, Time=10.03 sec\n",
            " ARIMA(5,1,1)(2,1,1)[12]             : AIC=-1971.549, Time=9.67 sec\n",
            " ARIMA(4,1,1)(2,1,1)[12]             : AIC=-1974.057, Time=8.20 sec\n",
            " ARIMA(6,1,1)(2,1,1)[12]             : AIC=inf, Time=11.14 sec\n",
            " ARIMA(5,1,0)(2,1,1)[12] intercept   : AIC=-1960.587, Time=14.00 sec\n",
            "\n",
            "Best model:  ARIMA(5,1,0)(2,1,1)[12]          \n",
            "Total fit time: 163.082 seconds\n"
          ]
        },
        {
          "output_type": "execute_result",
          "data": {
            "text/plain": [
              "<class 'statsmodels.iolib.summary.Summary'>\n",
              "\"\"\"\n",
              "                                      SARIMAX Results                                       \n",
              "============================================================================================\n",
              "Dep. Variable:                                    y   No. Observations:                  334\n",
              "Model:             SARIMAX(5, 1, 0)x(2, 1, [1], 12)   Log Likelihood                 997.229\n",
              "Date:                              Fri, 10 Jun 2022   AIC                          -1976.458\n",
              "Time:                                      07:30:22   BIC                          -1942.515\n",
              "Sample:                                           0   HQIC                         -1962.905\n",
              "                                              - 334                                         \n",
              "Covariance Type:                                opg                                         \n",
              "==============================================================================\n",
              "                 coef    std err          z      P>|z|      [0.025      0.975]\n",
              "------------------------------------------------------------------------------\n",
              "ar.L1         -0.2979      0.056     -5.368      0.000      -0.407      -0.189\n",
              "ar.L2         -0.2542      0.066     -3.876      0.000      -0.383      -0.126\n",
              "ar.L3         -0.1973      0.062     -3.172      0.002      -0.319      -0.075\n",
              "ar.L4         -0.1286      0.067     -1.927      0.054      -0.259       0.002\n",
              "ar.L5         -0.0950      0.065     -1.460      0.144      -0.223       0.033\n",
              "ar.S.L12       0.0283      0.070      0.402      0.688      -0.110       0.166\n",
              "ar.S.L24      -0.1134      0.077     -1.472      0.141      -0.264       0.038\n",
              "ma.S.L12      -0.8598      0.063    -13.603      0.000      -0.984      -0.736\n",
              "sigma2         0.0001   9.87e-06     12.005      0.000    9.92e-05       0.000\n",
              "===================================================================================\n",
              "Ljung-Box (L1) (Q):                   0.00   Jarque-Bera (JB):                 7.91\n",
              "Prob(Q):                              0.96   Prob(JB):                         0.02\n",
              "Heteroskedasticity (H):               0.98   Skew:                            -0.21\n",
              "Prob(H) (two-sided):                  0.91   Kurtosis:                         3.64\n",
              "===================================================================================\n",
              "\n",
              "Warnings:\n",
              "[1] Covariance matrix calculated using the outer product of gradients (complex-step).\n",
              "\"\"\""
            ],
            "text/html": [
              "<table class=\"simpletable\">\n",
              "<caption>SARIMAX Results</caption>\n",
              "<tr>\n",
              "  <th>Dep. Variable:</th>                   <td>y</td>                <th>  No. Observations:  </th>    <td>334</td>   \n",
              "</tr>\n",
              "<tr>\n",
              "  <th>Model:</th>           <td>SARIMAX(5, 1, 0)x(2, 1, [1], 12)</td> <th>  Log Likelihood     </th>  <td>997.229</td> \n",
              "</tr>\n",
              "<tr>\n",
              "  <th>Date:</th>                    <td>Fri, 10 Jun 2022</td>         <th>  AIC                </th> <td>-1976.458</td>\n",
              "</tr>\n",
              "<tr>\n",
              "  <th>Time:</th>                        <td>07:30:22</td>             <th>  BIC                </th> <td>-1942.515</td>\n",
              "</tr>\n",
              "<tr>\n",
              "  <th>Sample:</th>                          <td>0</td>                <th>  HQIC               </th> <td>-1962.905</td>\n",
              "</tr>\n",
              "<tr>\n",
              "  <th></th>                              <td> - 334</td>              <th>                     </th>     <td> </td>    \n",
              "</tr>\n",
              "<tr>\n",
              "  <th>Covariance Type:</th>                <td>opg</td>               <th>                     </th>     <td> </td>    \n",
              "</tr>\n",
              "</table>\n",
              "<table class=\"simpletable\">\n",
              "<tr>\n",
              "      <td></td>        <th>coef</th>     <th>std err</th>      <th>z</th>      <th>P>|z|</th>  <th>[0.025</th>    <th>0.975]</th>  \n",
              "</tr>\n",
              "<tr>\n",
              "  <th>ar.L1</th>    <td>   -0.2979</td> <td>    0.056</td> <td>   -5.368</td> <td> 0.000</td> <td>   -0.407</td> <td>   -0.189</td>\n",
              "</tr>\n",
              "<tr>\n",
              "  <th>ar.L2</th>    <td>   -0.2542</td> <td>    0.066</td> <td>   -3.876</td> <td> 0.000</td> <td>   -0.383</td> <td>   -0.126</td>\n",
              "</tr>\n",
              "<tr>\n",
              "  <th>ar.L3</th>    <td>   -0.1973</td> <td>    0.062</td> <td>   -3.172</td> <td> 0.002</td> <td>   -0.319</td> <td>   -0.075</td>\n",
              "</tr>\n",
              "<tr>\n",
              "  <th>ar.L4</th>    <td>   -0.1286</td> <td>    0.067</td> <td>   -1.927</td> <td> 0.054</td> <td>   -0.259</td> <td>    0.002</td>\n",
              "</tr>\n",
              "<tr>\n",
              "  <th>ar.L5</th>    <td>   -0.0950</td> <td>    0.065</td> <td>   -1.460</td> <td> 0.144</td> <td>   -0.223</td> <td>    0.033</td>\n",
              "</tr>\n",
              "<tr>\n",
              "  <th>ar.S.L12</th> <td>    0.0283</td> <td>    0.070</td> <td>    0.402</td> <td> 0.688</td> <td>   -0.110</td> <td>    0.166</td>\n",
              "</tr>\n",
              "<tr>\n",
              "  <th>ar.S.L24</th> <td>   -0.1134</td> <td>    0.077</td> <td>   -1.472</td> <td> 0.141</td> <td>   -0.264</td> <td>    0.038</td>\n",
              "</tr>\n",
              "<tr>\n",
              "  <th>ma.S.L12</th> <td>   -0.8598</td> <td>    0.063</td> <td>  -13.603</td> <td> 0.000</td> <td>   -0.984</td> <td>   -0.736</td>\n",
              "</tr>\n",
              "<tr>\n",
              "  <th>sigma2</th>   <td>    0.0001</td> <td> 9.87e-06</td> <td>   12.005</td> <td> 0.000</td> <td> 9.92e-05</td> <td>    0.000</td>\n",
              "</tr>\n",
              "</table>\n",
              "<table class=\"simpletable\">\n",
              "<tr>\n",
              "  <th>Ljung-Box (L1) (Q):</th>     <td>0.00</td> <th>  Jarque-Bera (JB):  </th> <td>7.91</td> \n",
              "</tr>\n",
              "<tr>\n",
              "  <th>Prob(Q):</th>                <td>0.96</td> <th>  Prob(JB):          </th> <td>0.02</td> \n",
              "</tr>\n",
              "<tr>\n",
              "  <th>Heteroskedasticity (H):</th> <td>0.98</td> <th>  Skew:              </th> <td>-0.21</td>\n",
              "</tr>\n",
              "<tr>\n",
              "  <th>Prob(H) (two-sided):</th>    <td>0.91</td> <th>  Kurtosis:          </th> <td>3.64</td> \n",
              "</tr>\n",
              "</table><br/><br/>Warnings:<br/>[1] Covariance matrix calculated using the outer product of gradients (complex-step)."
            ]
          },
          "metadata": {},
          "execution_count": 11
        }
      ]
    },
    {
      "cell_type": "code",
      "source": [
        "sarima_model.fit(y_train.reference_evapotranspiration)"
      ],
      "metadata": {
        "colab": {
          "base_uri": "https://localhost:8080/"
        },
        "id": "xuirK-oQqrK3",
        "outputId": "73ce1acc-2fcb-4567-9379-9bb069d0eb3c"
      },
      "execution_count": null,
      "outputs": [
        {
          "output_type": "execute_result",
          "data": {
            "text/plain": [
              "ARIMA(order=(5, 1, 0), scoring_args={}, seasonal_order=(2, 1, 1, 12),\n",
              "      suppress_warnings=True, with_intercept=False)"
            ]
          },
          "metadata": {},
          "execution_count": 12
        }
      ]
    },
    {
      "cell_type": "code",
      "source": [
        "y_pred = sarima_model.predict(n_periods=len(y_test))\n",
        "\n",
        "print('RMSE = {}\\nMAE  = {}\\n'.format(\n",
        "    np.sqrt(mt.mean_squared_error(y_test.reference_evapotranspiration, y_pred)), \n",
        "    mt.mean_absolute_error(y_test.reference_evapotranspiration, y_pred)))"
      ],
      "metadata": {
        "colab": {
          "base_uri": "https://localhost:8080/"
        },
        "id": "gX0mu1H6qwja",
        "outputId": "2b494a73-206e-45a1-daf3-11a61961ff7b"
      },
      "execution_count": null,
      "outputs": [
        {
          "output_type": "stream",
          "name": "stdout",
          "text": [
            "RMSE = 0.025276322446217858\n",
            "MAE  = 0.023053239228703216\n",
            "\n"
          ]
        }
      ]
    }
  ]
}